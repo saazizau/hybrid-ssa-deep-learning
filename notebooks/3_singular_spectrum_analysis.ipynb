{
 "cells": [
  {
   "cell_type": "markdown",
   "metadata": {},
   "source": [
    "---\n",
    "# **LIBRARY**\n",
    "---"
   ]
  },
  {
   "cell_type": "code",
   "execution_count": 1,
   "metadata": {},
   "outputs": [],
   "source": [
    "# Library sistem\n",
    "import os\n",
    "\n",
    "# Library dasar\n",
    "import numpy as np\n",
    "import pandas as pd\n",
    "\n",
    "# Library visualisasi\n",
    "import matplotlib.pyplot as plt\n",
    "import matplotlib.dates as mdates\n",
    "import seaborn as sns\n",
    "\n",
    "# Library statistika\n",
    "from statsmodels.tsa.stattools import acf, pacf\n",
    "\n",
    "# Library evaluasi\n",
    "from sklearn.metrics import mean_squared_error, root_mean_squared_error, mean_absolute_error, mean_absolute_percentage_error, r2_score"
   ]
  },
  {
   "cell_type": "markdown",
   "metadata": {},
   "source": [
    "---\n",
    "# **CONFIGURATION**\n",
    "---"
   ]
  },
  {
   "cell_type": "code",
   "execution_count": 2,
   "metadata": {},
   "outputs": [
    {
     "name": "stdout",
     "output_type": "stream",
     "text": [
      "Output directory ready: ../hasil/ssa\n"
     ]
    }
   ],
   "source": [
    "# ============================\n",
    "# Configuration\n",
    "# ============================\n",
    "METADATA_PATH = \"../data/processed/(K3 - Transformasi per jam) Beban listrik.csv\" # Pastikan File telah ditambahkan\n",
    "OUTPUT_PATH = \"../hasil/ssa\"\n",
    "\n",
    "# Membuat direktori jika belum ada\n",
    "os.makedirs(OUTPUT_PATH, exist_ok=True)\n",
    "print(f\"Output directory ready: {OUTPUT_PATH}\")"
   ]
  },
  {
   "cell_type": "markdown",
   "metadata": {},
   "source": [
    "---\n",
    "# **LOAD METADATA**\n",
    "---"
   ]
  },
  {
   "cell_type": "code",
   "execution_count": 3,
   "metadata": {},
   "outputs": [
    {
     "data": {
      "text/html": [
       "<div>\n",
       "<style scoped>\n",
       "    .dataframe tbody tr th:only-of-type {\n",
       "        vertical-align: middle;\n",
       "    }\n",
       "\n",
       "    .dataframe tbody tr th {\n",
       "        vertical-align: top;\n",
       "    }\n",
       "\n",
       "    .dataframe thead th {\n",
       "        text-align: right;\n",
       "    }\n",
       "</style>\n",
       "<table border=\"1\" class=\"dataframe\">\n",
       "  <thead>\n",
       "    <tr style=\"text-align: right;\">\n",
       "      <th></th>\n",
       "      <th>TANGGAL_JAM</th>\n",
       "      <th>BEBAN</th>\n",
       "      <th>TAHUN</th>\n",
       "    </tr>\n",
       "  </thead>\n",
       "  <tbody>\n",
       "    <tr>\n",
       "      <th>0</th>\n",
       "      <td>2016-01-01 00:00:00</td>\n",
       "      <td>5204.705</td>\n",
       "      <td>2016</td>\n",
       "    </tr>\n",
       "    <tr>\n",
       "      <th>1</th>\n",
       "      <td>2016-01-01 01:00:00</td>\n",
       "      <td>5208.790</td>\n",
       "      <td>2016</td>\n",
       "    </tr>\n",
       "    <tr>\n",
       "      <th>2</th>\n",
       "      <td>2016-01-01 02:00:00</td>\n",
       "      <td>5050.520</td>\n",
       "      <td>2016</td>\n",
       "    </tr>\n",
       "    <tr>\n",
       "      <th>3</th>\n",
       "      <td>2016-01-01 03:00:00</td>\n",
       "      <td>4873.250</td>\n",
       "      <td>2016</td>\n",
       "    </tr>\n",
       "    <tr>\n",
       "      <th>4</th>\n",
       "      <td>2016-01-01 04:00:00</td>\n",
       "      <td>4844.160</td>\n",
       "      <td>2016</td>\n",
       "    </tr>\n",
       "  </tbody>\n",
       "</table>\n",
       "</div>"
      ],
      "text/plain": [
       "          TANGGAL_JAM     BEBAN  TAHUN\n",
       "0 2016-01-01 00:00:00  5204.705   2016\n",
       "1 2016-01-01 01:00:00  5208.790   2016\n",
       "2 2016-01-01 02:00:00  5050.520   2016\n",
       "3 2016-01-01 03:00:00  4873.250   2016\n",
       "4 2016-01-01 04:00:00  4844.160   2016"
      ]
     },
     "execution_count": 3,
     "metadata": {},
     "output_type": "execute_result"
    }
   ],
   "source": [
    "# Memanggil data\n",
    "df_siap = pd.read_csv(METADATA_PATH)\n",
    "df_siap['TANGGAL_JAM'] = pd.to_datetime(df_siap['TANGGAL_JAM'])\n",
    "df_siap['TAHUN'] = df_siap['TANGGAL_JAM'].dt.year\n",
    "\n",
    "df_siap.head()"
   ]
  },
  {
   "cell_type": "markdown",
   "metadata": {},
   "source": [
    "---\n",
    "## **1. Dekomposisi**\n",
    "---"
   ]
  },
  {
   "cell_type": "code",
   "execution_count": 4,
   "metadata": {},
   "outputs": [],
   "source": [
    "L = 168 # Panjang jendela 168 = (24*7)"
   ]
  },
  {
   "cell_type": "code",
   "execution_count": 5,
   "metadata": {},
   "outputs": [],
   "source": [
    "SSA_DATA_PATH = f\"{OUTPUT_PATH}/data\"\n",
    "SSA_KOMPONEN_PATH = f\"{OUTPUT_PATH}/komponen\"\n",
    "\n",
    "\n",
    "os.makedirs(SSA_DATA_PATH, exist_ok=True)\n",
    "os.makedirs(SSA_KOMPONEN_PATH, exist_ok=True)\n"
   ]
  },
  {
   "cell_type": "markdown",
   "metadata": {},
   "source": [
    "### **Embadding**"
   ]
  },
  {
   "cell_type": "code",
   "execution_count": 6,
   "metadata": {},
   "outputs": [],
   "source": [
    "def windowing(F: np.ndarray, L: int) -> np.ndarray:\n",
    "    \"\"\"\n",
    "    Membentuk matriks trajectory SSA (windowing / embedding).\n",
    "\n",
    "    Parameters\n",
    "    ----------\n",
    "    F : np.ndarray\n",
    "        Deret waktu 1D, panjang N.\n",
    "    L : int\n",
    "        Panjang window (1 <= L <= N)\n",
    "\n",
    "    Returns\n",
    "    -------\n",
    "    np.ndarray\n",
    "        Matriks trajectory berukuran (L, K), dengan K = N - L + 1.\n",
    "        Setiap kolom merepresentasikan vektor lag sepanjang L.\n",
    "    \"\"\"\n",
    "    F = np.asarray(F).ravel()  # pastikan 1D\n",
    "    N = len(F)\n",
    "    if not (1 <= L <= N):\n",
    "        raise ValueError(\"L harus antara 1 dan panjang data F.\")\n",
    "    K = N - L + 1\n",
    "    X = np.column_stack([F[i:i + L] for i in range(K)])\n",
    "    return X"
   ]
  },
  {
   "cell_type": "code",
   "execution_count": 14,
   "metadata": {},
   "outputs": [
    {
     "name": "stdout",
     "output_type": "stream",
     "text": [
      "[5204.705 5208.79  5050.52  ... 8455.14  7918.88  7510.35 ]\n",
      "[[5204.705 5208.79  5050.52  ... 7640.71  7288.01  7078.5  ]\n",
      " [5208.79  5050.52  4873.25  ... 7288.01  7078.5   6934.38 ]\n",
      " [5050.52  4873.25  4844.16  ... 7078.5   6934.38  6816.52 ]\n",
      " ...\n",
      " [7347.71  6791.18  6189.06  ... 9305.29  9026.48  8455.14 ]\n",
      " [6791.18  6189.06  5877.48  ... 9026.48  8455.14  7918.88 ]\n",
      " [6189.06  5877.48  5644.61  ... 8455.14  7918.88  7510.35 ]]\n"
     ]
    }
   ],
   "source": [
    "X = windowing(df_siap['BEBAN'], L)\n",
    "print(df_siap['BEBAN'].values)\n",
    "print(X)\n",
    "\n",
    "np.save(f'{OUTPUT_PATH}/X_{L}.npy', X)\n",
    "np.savetxt(f'{OUTPUT_PATH}/X_{L}.csv', X, delimiter=',', fmt='%d')"
   ]
  },
  {
   "cell_type": "markdown",
   "metadata": {},
   "source": [
    "### **Singular Value Decomposition (SVD)** "
   ]
  },
  {
   "cell_type": "code",
   "execution_count": 7,
   "metadata": {},
   "outputs": [],
   "source": [
    "# Fungsi dekomposisi\n",
    "def dekomposisi(X, k=None):\n",
    "  d = np.linalg.matrix_rank(X)\n",
    "  U, Sigma, V = np.linalg.svd(X, full_matrices=False)\n",
    "  V = V.T\n",
    "\n",
    "  if k is None:\n",
    "      k = d  # Gunakan semua komponen jika k tidak diberikan\n",
    "\n",
    "  X_komponen = np.array([Sigma[i] * np.outer(U[:, i], V[:, i]) for i in range(k)])\n",
    "\n",
    "  if not np.allclose(X, X_komponen.sum(axis=0), atol=1e-10):\n",
    "    print(\"WARNING: The sum of X's elementary matrices is not equal to X!\")\n",
    "\n",
    "  return X_komponen, U, Sigma, V, d\n",
    "\n",
    "# Fungsi hankelisasi\n",
    "def Hankelise(X):\n",
    "    \"\"\"\n",
    "    Hankelises the matrix X, returning H(X).\n",
    "    \"\"\"\n",
    "    L, K = X.shape\n",
    "    transpose = False\n",
    "    if L > K:\n",
    "        # Hanya berlaku untuk matriks berukuran L < K.\n",
    "        # Untuk L > K, maka ditranspose terlebih dahulu.\n",
    "        # Memberikan tanda bahwa matriks ditranspose.\n",
    "        X = X.T\n",
    "        L, K = K, L\n",
    "        transpose = True\n",
    "\n",
    "    HX = np.zeros((L,K))\n",
    "\n",
    "    # Diagonal Averaging\n",
    "    for m in range(L):\n",
    "        for n in range(K):\n",
    "            s = m+n\n",
    "            if 0 <= s <= L-1:\n",
    "                for l in range(0,s+1):\n",
    "                    HX[m,n] += 1/(s+1)*X[l, s-l]\n",
    "            elif L <= s <= K-1:\n",
    "                for l in range(0,L-1):\n",
    "                    HX[m,n] += 1/(L-1)*X[l, s-l]\n",
    "            elif K <= s <= K+L-2:\n",
    "                for l in range(s-K+1,L):\n",
    "                    HX[m,n] += 1/(K+L-s-1)*X[l, s-l]\n",
    "    if transpose:\n",
    "        return HX.T\n",
    "    else:\n",
    "        return HX\n",
    "\n",
    "def X_to_TS(X_i):\n",
    "    \"\"\"Averages the anti-diagonals of the given elementary matrix, X_i, and returns a time series.\"\"\"\n",
    "    # Membalik urutan X_i\n",
    "    X_rev = X_i[::-1]\n",
    "    return np.array([X_rev.diagonal(i).mean() for i in range(-X_i.shape[0]+1, X_i.shape[1])])\n"
   ]
  },
  {
   "cell_type": "code",
   "execution_count": 18,
   "metadata": {},
   "outputs": [],
   "source": [
    "# Mendekompsisi matriks trajektori X\n",
    "X_komponen, U, Sigma, V, d = dekomposisi(X)"
   ]
  },
  {
   "cell_type": "code",
   "execution_count": 22,
   "metadata": {},
   "outputs": [
    {
     "name": "stdout",
     "output_type": "stream",
     "text": [
      "(168, 168)\n",
      "(168,)\n",
      "(77690, 168)\n"
     ]
    }
   ],
   "source": [
    "print(U.shape)\n",
    "print(Sigma.shape)\n",
    "print(V.shape)"
   ]
  },
  {
   "cell_type": "code",
   "execution_count": 21,
   "metadata": {},
   "outputs": [],
   "source": [
    "np.save(f'{SSA_DATA_PATH}/X_komponen.npy', X_komponen)\n",
    "np.save(f'{SSA_DATA_PATH}/U.npy', U)\n",
    "np.save(f'{SSA_DATA_PATH}/Sigma.npy', Sigma)\n",
    "np.save(f'{SSA_DATA_PATH}/V.npy', V)\n",
    "np.save(f'{SSA_DATA_PATH}/d.npy', d)"
   ]
  },
  {
   "cell_type": "code",
   "execution_count": 8,
   "metadata": {},
   "outputs": [],
   "source": [
    "X_komponen = np.load(f'{SSA_DATA_PATH}/X_komponen.npy')\n",
    "U = np.load(f'{SSA_DATA_PATH}/U.npy')\n",
    "Sigma = np.load(f'{SSA_DATA_PATH}/Sigma.npy')\n",
    "V = np.load(f'{SSA_DATA_PATH}/V.npy')\n",
    "d = np.load(f'{SSA_DATA_PATH}/d.npy')"
   ]
  },
  {
   "cell_type": "code",
   "execution_count": null,
   "metadata": {},
   "outputs": [],
   "source": [
    "F_i = [X_to_TS(X_komponen[i]) for i in range(L)]  # Konversi semua komponen"
   ]
  },
  {
   "cell_type": "code",
   "execution_count": 9,
   "metadata": {},
   "outputs": [
    {
     "name": "stdout",
     "output_type": "stream",
     "text": [
      "✅ Semua 168 plot telah disimpan sebagai PNG dan PDF di folder: ../hasil/ssa/komponen\n"
     ]
    }
   ],
   "source": [
    "t = range(len(df_siap.index))\n",
    "colors = plt.get_cmap('tab20').colors\n",
    "\n",
    "# Simpan setiap plot sebagai PNG dan PDF terpisah\n",
    "for i in range(L):\n",
    "    fig, ax = plt.subplots(figsize=(12, 6))\n",
    "    ax.plot(t, F_i[i], lw=2, color=colors[i % len(colors)])\n",
    "    ax.set_title(f\"Komponen {i}\", fontsize=16)\n",
    "    ax.set_xlabel(\"Waktu\", fontsize=14)\n",
    "    ax.set_ylabel(\"Nilai\", fontsize=14)\n",
    "    ax.tick_params(axis='both', which='major', labelsize=12)\n",
    "\n",
    "    # Simpan gambar PNG\n",
    "    png_filename = os.path.join(SSA_KOMPONEN_PATH, f\"komponen_{i}.png\")\n",
    "    plt.savefig(png_filename, dpi=300, bbox_inches=\"tight\")\n",
    "\n",
    "    # Simpan gambar PDF\n",
    "    pdf_filename = os.path.join(SSA_KOMPONEN_PATH, f\"komponen_{i}.pdf\")\n",
    "    plt.savefig(pdf_filename, dpi=300, bbox_inches=\"tight\")\n",
    "\n",
    "    plt.close(fig)\n",
    "\n",
    "print(f\"✅ Semua {L} plot telah disimpan sebagai PNG dan PDF di folder: {SSA_KOMPONEN_PATH}\")"
   ]
  },
  {
   "cell_type": "markdown",
   "metadata": {},
   "source": [
    "---\n",
    "## **2. Rekonstruksi**\n",
    "---"
   ]
  },
  {
   "cell_type": "code",
   "execution_count": null,
   "metadata": {},
   "outputs": [],
   "source": [
    "SSA_REKONSTRUKSI_PATH = f\"{OUTPUT_PATH}/rekonstruksi\"\n",
    "\n",
    "os.makedirs(SSA_REKONSTRUKSI_PATH, exist_ok=True)\n"
   ]
  }
 ],
 "metadata": {
  "kernelspec": {
   "display_name": "Python 3",
   "language": "python",
   "name": "python3"
  },
  "language_info": {
   "codemirror_mode": {
    "name": "ipython",
    "version": 3
   },
   "file_extension": ".py",
   "mimetype": "text/x-python",
   "name": "python",
   "nbconvert_exporter": "python",
   "pygments_lexer": "ipython3",
   "version": "3.10.9"
  }
 },
 "nbformat": 4,
 "nbformat_minor": 2
}
